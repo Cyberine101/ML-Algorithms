{
  "nbformat": 4,
  "nbformat_minor": 0,
  "metadata": {
    "colab": {
      "provenance": [],
      "authorship_tag": "ABX9TyPLSYnXdKN7zXA7xPV8tUsh",
      "include_colab_link": true
    },
    "kernelspec": {
      "name": "python3",
      "display_name": "Python 3"
    },
    "language_info": {
      "name": "python"
    }
  },
  "cells": [
    {
      "cell_type": "markdown",
      "metadata": {
        "id": "view-in-github",
        "colab_type": "text"
      },
      "source": [
        "<a href=\"https://colab.research.google.com/github/Cyberine101/ML-Algorithms/blob/main/Euclidean_Distance.ipynb\" target=\"_parent\"><img src=\"https://colab.research.google.com/assets/colab-badge.svg\" alt=\"Open In Colab\"/></a>"
      ]
    },
    {
      "cell_type": "code",
      "execution_count": null,
      "metadata": {
        "colab": {
          "base_uri": "https://localhost:8080/"
        },
        "id": "vI-JZDW_--f9",
        "outputId": "f4b35d30-76b2-4d93-bfae-8edf8d3a3475"
      },
      "outputs": [
        {
          "output_type": "stream",
          "name": "stdout",
          "text": [
            "Correlation: -0.6327217570506823\n",
            "Cosine Similarity: 0.3460460939812265\n",
            "Euclidean Distance: 14.933184523068078\n",
            "SciPy and Pandas Correlation: -0.6327217570506822\n",
            "SciPy and Pandas Cosine Similarity: 0.34604609398122654\n",
            "SciPy and Pandas Euclidean Distance: 14.933184523068078\n"
          ]
        }
      ],
      "source": [
        "import numpy as np\n",
        "from pandas import DataFrame\n",
        "from scipy.spatial import distance\n",
        "#Creates input vectors used for calculations\n",
        "list1 = [5, 3, 1, 0, 4, 2, 7, 0, 2, 5]  #numbers in first array\n",
        "list2 = [0, 2, 7, 3, 4, 1, 0, 10, 3, 4] #numbers in second array\n",
        "x = np.array(list1) #convert first array to vector\n",
        "y = np.array(list2) #convert second array to vector\n",
        "\n",
        "def correlation():\n",
        "  covariance = np.sum(((x - np.mean(x)) * (y - np.mean(y)))) / len(x) #calculate covariance between x and y vectors\n",
        "  x_standardDeviation = np.std(x)  #calculate standard deviation of x\n",
        "  y_standardDeviation = np.std(y)  #caclulate standard deviation of y\n",
        "  correlation_val = covariance / (x_standardDeviation * y_standardDeviation)  #calulate correlation matrix\n",
        "  return correlation_val\n",
        "\n",
        "def cosineSimilarity():\n",
        "  dot_product = np.dot(x, y)  #calculate dot product of x and y\n",
        "  x_magnitude = np.linalg.norm(x)  #caclulate magnitude of x\n",
        "  y_magnitude = np.linalg.norm(y)  #caclulate magnitude of y\n",
        "  cosine_similarity = dot_product / (x_magnitude * y_magnitude)  #calculate cosine similarity\n",
        "  return cosine_similarity\n",
        "\n",
        "def euclideanDistance():\n",
        "  euclidean_distance = np.linalg.norm(x - y)  #calculate euclidean distance value between x and y vectors\n",
        "  return euclidean_distance\n",
        "\n",
        "correlation_value = correlation()\n",
        "cosine_value = cosineSimilarity()\n",
        "euclidean_value = euclideanDistance()\n",
        "\n",
        "print(\"Correlation:\", correlation_value) #display correlation matrix\n",
        "print(\"Cosine Similarity:\", cosine_value) #display cosine similarity value\n",
        "print(\"Euclidean Distance:\", euclidean_value)  #display euclidean distance value\n",
        "\n",
        "dataframe = DataFrame({\"x\": x, \"y\": y})  #create dataframe using pandas\n",
        "\n",
        "#display new values with SciPy\n",
        "print(\"SciPy and Pandas Correlation:\", 1 - distance.correlation(dataframe[\"x\"], dataframe[\"y\"]))\n",
        "print(\"SciPy and Pandas Cosine Similarity:\", 1 - distance.cosine(dataframe[\"x\"], dataframe[\"y\"]))\n",
        "print(\"SciPy and Pandas Euclidean Distance:\", distance.euclidean(dataframe[\"x\"], dataframe[\"y\"]))"
      ]
    }
  ]
}