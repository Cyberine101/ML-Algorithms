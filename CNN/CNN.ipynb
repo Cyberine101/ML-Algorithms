{
  "cells": [
    {
      "cell_type": "markdown",
      "metadata": {
        "id": "view-in-github",
        "colab_type": "text"
      },
      "source": [
        "<a href=\"https://colab.research.google.com/github/Cyberine101/ML-Algorithms/blob/main/CNN.ipynb\" target=\"_parent\"><img src=\"https://colab.research.google.com/assets/colab-badge.svg\" alt=\"Open In Colab\"/></a>"
      ]
    },
    {
      "cell_type": "markdown",
      "metadata": {
        "id": "lzo37yE6ejuA"
      },
      "source": [
        "# Convolution Neural Network Homework\n",
        "\n",
        "This is the 3rd homework assignment for CAP 4630 and we will go through some primary operations for image processsing and implement one of the earilest representative convolution neural network - LeNet-5 . \\\n",
        "You will use **\"Tasks\"** and **\"Hints\"** to finish the work. **(Total 100 Points)** \\\n",
        "For section 1, when you implement covolution and maxpooling, you are **not** allowed to use built-in functions in Machine Learning libaries such as Scikit-learn Keras, Tensorflow, Pytorch; but you are encouraged to employ Keras for second section.\n",
        "\n",
        "**Task Overview:**\n",
        "- Basic operations for Digital Image Processing (DIP)\n",
        "- LeNet-5 (Google Colab is recommended for implementation)"
      ]
    },
    {
      "cell_type": "markdown",
      "metadata": {
        "id": "gLKjpQvaejuF"
      },
      "source": [
        "## 1 - Basic Image Processing ##\n",
        "### 1.1 Data Preparation\n",
        "\n",
        "Import packages and prepare image data as an array for image processing. **(5 Points)**\n",
        "\n",
        "**Tasks:**\n",
        "1. Import numpy and rename it to np.\n",
        "2. Import imageio and call imread to convert image to an array.\n",
        "3. **DISPLAY** the image in the output box before image-array conversion.\n",
        "4. **PRINT OUT** the size of the array\n",
        "5. **PRINT OUT** the numeric matrix form of image, i.e. the obtained array after image-array conversion.\n",
        "\n",
        "References:\n",
        "- [numpy](www.numpy.org) is the fundamental package for scientific computing with Python.\n",
        "- [imageio](https://imageio.github.io/) is a python library for basic image reading and writing.\n",
        "\n",
        "**Hints:**\n",
        "1. Image data is under current directory, i.e., \"./image.jpg\".\n",
        "2. You may consider importing \"display\" and \"Image\" from IPython.display for image display."
      ]
    },
    {
      "cell_type": "code",
      "execution_count": 14,
      "metadata": {
        "colab": {
          "base_uri": "https://localhost:8080/",
          "height": 1000
        },
        "id": "qvITLRocejuG",
        "outputId": "b82c8dc3-16b1-4c90-dacb-d8c56fe5f7fc"
      },
      "outputs": [
        {
          "output_type": "display_data",
          "data": {
            "text/plain": [
              "<IPython.core.display.HTML object>"
            ],
            "text/html": [
              "\n",
              "     <input type=\"file\" id=\"files-1035f8c9-9a15-4c02-9231-bf6c711a227c\" name=\"files[]\" multiple disabled\n",
              "        style=\"border:none\" />\n",
              "     <output id=\"result-1035f8c9-9a15-4c02-9231-bf6c711a227c\">\n",
              "      Upload widget is only available when the cell has been executed in the\n",
              "      current browser session. Please rerun this cell to enable.\n",
              "      </output>\n",
              "      <script>// Copyright 2017 Google LLC\n",
              "//\n",
              "// Licensed under the Apache License, Version 2.0 (the \"License\");\n",
              "// you may not use this file except in compliance with the License.\n",
              "// You may obtain a copy of the License at\n",
              "//\n",
              "//      http://www.apache.org/licenses/LICENSE-2.0\n",
              "//\n",
              "// Unless required by applicable law or agreed to in writing, software\n",
              "// distributed under the License is distributed on an \"AS IS\" BASIS,\n",
              "// WITHOUT WARRANTIES OR CONDITIONS OF ANY KIND, either express or implied.\n",
              "// See the License for the specific language governing permissions and\n",
              "// limitations under the License.\n",
              "\n",
              "/**\n",
              " * @fileoverview Helpers for google.colab Python module.\n",
              " */\n",
              "(function(scope) {\n",
              "function span(text, styleAttributes = {}) {\n",
              "  const element = document.createElement('span');\n",
              "  element.textContent = text;\n",
              "  for (const key of Object.keys(styleAttributes)) {\n",
              "    element.style[key] = styleAttributes[key];\n",
              "  }\n",
              "  return element;\n",
              "}\n",
              "\n",
              "// Max number of bytes which will be uploaded at a time.\n",
              "const MAX_PAYLOAD_SIZE = 100 * 1024;\n",
              "\n",
              "function _uploadFiles(inputId, outputId) {\n",
              "  const steps = uploadFilesStep(inputId, outputId);\n",
              "  const outputElement = document.getElementById(outputId);\n",
              "  // Cache steps on the outputElement to make it available for the next call\n",
              "  // to uploadFilesContinue from Python.\n",
              "  outputElement.steps = steps;\n",
              "\n",
              "  return _uploadFilesContinue(outputId);\n",
              "}\n",
              "\n",
              "// This is roughly an async generator (not supported in the browser yet),\n",
              "// where there are multiple asynchronous steps and the Python side is going\n",
              "// to poll for completion of each step.\n",
              "// This uses a Promise to block the python side on completion of each step,\n",
              "// then passes the result of the previous step as the input to the next step.\n",
              "function _uploadFilesContinue(outputId) {\n",
              "  const outputElement = document.getElementById(outputId);\n",
              "  const steps = outputElement.steps;\n",
              "\n",
              "  const next = steps.next(outputElement.lastPromiseValue);\n",
              "  return Promise.resolve(next.value.promise).then((value) => {\n",
              "    // Cache the last promise value to make it available to the next\n",
              "    // step of the generator.\n",
              "    outputElement.lastPromiseValue = value;\n",
              "    return next.value.response;\n",
              "  });\n",
              "}\n",
              "\n",
              "/**\n",
              " * Generator function which is called between each async step of the upload\n",
              " * process.\n",
              " * @param {string} inputId Element ID of the input file picker element.\n",
              " * @param {string} outputId Element ID of the output display.\n",
              " * @return {!Iterable<!Object>} Iterable of next steps.\n",
              " */\n",
              "function* uploadFilesStep(inputId, outputId) {\n",
              "  const inputElement = document.getElementById(inputId);\n",
              "  inputElement.disabled = false;\n",
              "\n",
              "  const outputElement = document.getElementById(outputId);\n",
              "  outputElement.innerHTML = '';\n",
              "\n",
              "  const pickedPromise = new Promise((resolve) => {\n",
              "    inputElement.addEventListener('change', (e) => {\n",
              "      resolve(e.target.files);\n",
              "    });\n",
              "  });\n",
              "\n",
              "  const cancel = document.createElement('button');\n",
              "  inputElement.parentElement.appendChild(cancel);\n",
              "  cancel.textContent = 'Cancel upload';\n",
              "  const cancelPromise = new Promise((resolve) => {\n",
              "    cancel.onclick = () => {\n",
              "      resolve(null);\n",
              "    };\n",
              "  });\n",
              "\n",
              "  // Wait for the user to pick the files.\n",
              "  const files = yield {\n",
              "    promise: Promise.race([pickedPromise, cancelPromise]),\n",
              "    response: {\n",
              "      action: 'starting',\n",
              "    }\n",
              "  };\n",
              "\n",
              "  cancel.remove();\n",
              "\n",
              "  // Disable the input element since further picks are not allowed.\n",
              "  inputElement.disabled = true;\n",
              "\n",
              "  if (!files) {\n",
              "    return {\n",
              "      response: {\n",
              "        action: 'complete',\n",
              "      }\n",
              "    };\n",
              "  }\n",
              "\n",
              "  for (const file of files) {\n",
              "    const li = document.createElement('li');\n",
              "    li.append(span(file.name, {fontWeight: 'bold'}));\n",
              "    li.append(span(\n",
              "        `(${file.type || 'n/a'}) - ${file.size} bytes, ` +\n",
              "        `last modified: ${\n",
              "            file.lastModifiedDate ? file.lastModifiedDate.toLocaleDateString() :\n",
              "                                    'n/a'} - `));\n",
              "    const percent = span('0% done');\n",
              "    li.appendChild(percent);\n",
              "\n",
              "    outputElement.appendChild(li);\n",
              "\n",
              "    const fileDataPromise = new Promise((resolve) => {\n",
              "      const reader = new FileReader();\n",
              "      reader.onload = (e) => {\n",
              "        resolve(e.target.result);\n",
              "      };\n",
              "      reader.readAsArrayBuffer(file);\n",
              "    });\n",
              "    // Wait for the data to be ready.\n",
              "    let fileData = yield {\n",
              "      promise: fileDataPromise,\n",
              "      response: {\n",
              "        action: 'continue',\n",
              "      }\n",
              "    };\n",
              "\n",
              "    // Use a chunked sending to avoid message size limits. See b/62115660.\n",
              "    let position = 0;\n",
              "    do {\n",
              "      const length = Math.min(fileData.byteLength - position, MAX_PAYLOAD_SIZE);\n",
              "      const chunk = new Uint8Array(fileData, position, length);\n",
              "      position += length;\n",
              "\n",
              "      const base64 = btoa(String.fromCharCode.apply(null, chunk));\n",
              "      yield {\n",
              "        response: {\n",
              "          action: 'append',\n",
              "          file: file.name,\n",
              "          data: base64,\n",
              "        },\n",
              "      };\n",
              "\n",
              "      let percentDone = fileData.byteLength === 0 ?\n",
              "          100 :\n",
              "          Math.round((position / fileData.byteLength) * 100);\n",
              "      percent.textContent = `${percentDone}% done`;\n",
              "\n",
              "    } while (position < fileData.byteLength);\n",
              "  }\n",
              "\n",
              "  // All done.\n",
              "  yield {\n",
              "    response: {\n",
              "      action: 'complete',\n",
              "    }\n",
              "  };\n",
              "}\n",
              "\n",
              "scope.google = scope.google || {};\n",
              "scope.google.colab = scope.google.colab || {};\n",
              "scope.google.colab._files = {\n",
              "  _uploadFiles,\n",
              "  _uploadFilesContinue,\n",
              "};\n",
              "})(self);\n",
              "</script> "
            ]
          },
          "metadata": {}
        },
        {
          "output_type": "stream",
          "name": "stdout",
          "text": [
            "Saving image.jpg to image (1).jpg\n"
          ]
        },
        {
          "output_type": "display_data",
          "data": {
            "image/jpeg": "[encoded data removed]",
            "text/plain": [
              "<IPython.core.display.Image object>"
            ]
          },
          "metadata": {}
        },
        {
          "output_type": "stream",
          "name": "stdout",
          "text": [
            "(30, 30)\n",
            "[[ 98  89  78 112  90  93 158 112 122 117 107 121  90  75  67  93  73  67\n",
            "   96 152 167 151 166 154 134 105  53  51  55  44]\n",
            " [ 34  31  51  38  16  50 195 161 138 173 200 209 194 206 222 237 223 195\n",
            "  177 185 167 160 166 169 136  98  49  54  55  35]\n",
            " [ 78  84  94  71  81  69 190 204 233 240 249 234 232 241 250 235 235 236\n",
            "  224 194 169 181 170 162 121  95  55  49  52  47]\n",
            " [ 79  58  90 127 103 137 253 244 254 222 223 219 235 228 232 206 201 215\n",
            "  201 106 105 137 169 173 124  81  45  49  59  53]\n",
            " [ 31  75  44  81  89 191 242 255 228 208 231 233 236 222 227 199 177 192\n",
            "  208 104 137 109 170 194 159  88  44  54  63  46]\n",
            " [ 85  66  51 145 129 225 239 206 242 233 247 231 210 218 232 202 190 173\n",
            "  181  95 146  39 132 199 178 145 103  53  44  65]\n",
            " [ 81  60  76 178 216 214 209 230 240 229 230 211 157 176 214 218 185 186\n",
            "  198 154 203  33 100 157 157 179 162  72  39  78]\n",
            " [104  89 152 176 168 117 182 226 242 235 238 207  82  50  94 145 136 157\n",
            "  148 119 175  30 111 165 136 155 168 110  60  56]\n",
            " [ 95  39 181 160  91  13 180 237 240 242 221 102  24   7  19  12  38  95\n",
            "  101 142 155  30  89  91 107 145 161 113  60  53]\n",
            " [ 18  54 186 144 147  99 248 238 235 227 210 115  62  57  74  72  85  82\n",
            "   91 182  83  56  68  59 129 113 133 129 116  67]\n",
            " [ 84  79 201 132 185 229 217 206 210 188 188 155 160 169 164 141 111  70\n",
            "  126 154  49  40  69  73 104  85 120 132 158 125]\n",
            " [201 161 135 153 174 219 204 197 209 178 177 146 138 124 114 101  90  85\n",
            "  144 105  81  53  83 104  74  80 122 141 152 133]\n",
            " [162 150 147 212 176 180 190 187 161 107 114 140 191 178 114  49  74 117\n",
            "  112 118  99 114  93  98  96  90 104 139 102  67]\n",
            " [184 138 167 132  90 118 183 214 193 150 148 132 137 130 135 141  96 127\n",
            "  108 140  75 111 113  96 115 101  75  89  42  43]\n",
            " [172 127 105  83  61  34 134 149 188 134 119  97 106 106 115 120 109 107\n",
            "  123 139  70  77 110 103 102  91  67  68  42  61]\n",
            " [139  39  59  55  36  15  27 128 189 123  98  79 100 105 105  97  95  86\n",
            "  105 148  94  95  78  92  93  67  78 110  94  51]\n",
            " [162  27  19  24   2  34  19 104 153  91  88  71 100 151 122 118  98  96\n",
            "   92 143 136  86  92  79  83  64  35  31  61  87]\n",
            " [186 114  41  35  15  20  37  75 101  92  91  86 122 172 147  97  85  96\n",
            "   86 104  88  61  80  64  68  65  37  12  21  38]\n",
            " [183 164  24  17  41  42  75  49  67  80  74  86  98 104 116  99  81 101\n",
            "   90  94  97 116 149 125  69  83  64  30  28  42]\n",
            " [172 207  94  39  34  18  50  52  82  95  92  99  97  86 104 120  82  88\n",
            "   69  66  82 112 126  84  52  66  53  25  20  26]\n",
            " [159 164 106  37  51  56  38  56  62  87 101  90 108 125  99  84  94  90\n",
            "   78  79  86  97  89  48  79  77  59  41  34  27]\n",
            " [179 181 191 103  67  52  28  77  92 109 121 113 129 129  93  93  65  66\n",
            "   77  86  83  79  71  52  55  46  30  24  26  19]\n",
            " [198 178 191 158 154 149 142 139 144 144 109 102 103  73  72  98  89  84\n",
            "   94  92  76  65  51  40  19  21  12   9  19  25]\n",
            " [173 168 176 182 184 172 208 171 198 207 118  91 101  88 107  93 109  92\n",
            "   87  72  55  47  26   6   9  21  14   1   9  19]\n",
            " [180 180 176 177 187 189 165 134 130 188 137 113  70 107  79  61  81  61\n",
            "   47  49  48  30  10   0   4   5   5   5   4   7]\n",
            " [176 177 176 178 186 190 183 172 160 151 124 134 109  74  58  64  56  48\n",
            "   42  37  23   8   8  17   9   9  11  14  18  23]\n",
            " [175 174 176 180 181 185 195 207 179 208 217 168 122  92  94  48  52  34\n",
            "   18  14  12  10  14  21  33  28  23  23  26  28]\n",
            " [179 174 177 182 178 175 189 210 216 220 204 246 134 106  65  57  55  34\n",
            "   14   9  15  21  27  32  54  43  31  29  34  36]\n",
            " [183 176 177 185 182 172 179 196 255 153 188 221 225  84  82  51  42  39\n",
            "   33  25  19  23  41  59  49  37  27  31  47  59]\n",
            " [184 177 179 188 186 177 177 186 242 187 172 247 199 148  91  54  40  35\n",
            "   30  29  34  44  55  63  34  24  18  28  51  71]]\n"
          ]
        }
      ],
      "source": [
        "# Import useful libraries\n",
        "import numpy as np\n",
        "import imageio.v2 as imageio\n",
        "from IPython.display import display, Image\n",
        "from google.colab import files\n",
        "files.upload()  #puts image in same directory\n",
        "\n",
        "# Display original image\n",
        "image = Image(\"./image.jpg\")\n",
        "display(image)\n",
        "\n",
        "# Convert image to array, print out the shape of array, and print out the entire array\n",
        "img_matrix = imageio.imread(\"./image.jpg\")\n",
        "print(img_matrix.shape)\n",
        "print(img_matrix)\n",
        "\n"
      ]
    },
    {
      "cell_type": "markdown",
      "metadata": {
        "id": "EY5djq-tejuI"
      },
      "source": [
        "### 1.2 Implementation of Convolution Filter\n",
        "\n",
        "Process the obtained array from the image with convolution operation. **(20 Points)**\n",
        "\n",
        "**Tasks:**\n",
        "1. Prepare a 3X3 Laplacian kernel (aka Laplacial filter) with array as convolution filter.\n",
        "2. Conduct convolution on image with prepared kernel.\n",
        "3. **PRINT OUT** convolution result for first ten rows.\n",
        "4. **PRINT OUT** the shape of the convolution result.\n",
        "5. **DISPLAY** convolution result as image with matplotlib. (Don't worry about the value <0 or >255. Scaling process will be conducted in imshow function to make sure valid display.)\n",
        "\n",
        "\n",
        "**Hints:**\n",
        "1. Laplacian kernel is widely used for edge detection. Its form is shown below:\n",
        "\n",
        "\n",
        "![](https://drive.google.com/uc?export=view&id=15bP8KCwHLtglJ-WXV4wolm4m46mCp3HL)\n",
        "\n",
        "2. You may consider the following steps for this implementation.\\\n",
        "    2.1 Extract all centriods of processing region for each convolution operation.\\\n",
        "    2.2 According to each centroid, locate all indices of the elements within the local region for each convolution operation.\\\n",
        "    2.3 Given obtained indices, locate pixel values (i.e. our obtained array elements) and conduct element-wise product between pixel and kernel values.\\\n",
        "    2.4 Sum element-wise product results and assign the value to convolution result at corresponding location.\\\n",
        "    **Note: we did not conduct padding for processed array, and thus, convolution result will become smaller than original array. You may think about the reason.**\n",
        "3. Validation for first 5X5 array (from upper-left corner), i.e., filtered_results[0:5,0:5]. The example figure is below.\n",
        "\n",
        "[[ 134.   37.   98.  195.  173.]\\\n",
        " [ -75.  -80.   56.  -65.  182.]\\\n",
        " [  96.  -37. -163.   22.   68.]\\\n",
        " [-101.  121.   81.  148.  -71.]\\\n",
        " [   7.  127. -141.  159. -127.]]\n",
        "\n",
        "![](https://drive.google.com/uc?export=view&id=18Iis1mJsvEaojZ7O3f3soE152Szwy8_Z)\n",
        "\n",
        "\n"
      ]
    },
    {
      "cell_type": "code",
      "execution_count": 2,
      "metadata": {
        "id": "cnc8BNW9ejuJ",
        "colab": {
          "base_uri": "https://localhost:8080/",
          "height": 812
        },
        "outputId": "dfcb12d9-40fc-4523-b2b2-93a6204b2a06"
      },
      "outputs": [
        {
          "output_type": "stream",
          "name": "stdout",
          "text": [
            "[[ 134   37   98  195  173 -221    5  137    3  -62  -87  -39  -92 -128\n",
            "  -175 -152  -77   -8  -50   13   25    1  -58  -22   -7   64  -12  -24]\n",
            " [ -75  -80   56  -65  182  -39   12  -96  -83  -99  -27  -24  -48  -70\n",
            "   -12  -45  -75  -88  -92  -29  -88   -2  -15   33  -25   18   14    2]\n",
            " [  96  -37 -163   22   68 -199  -10  -89   37   29   49  -25   18  -17\n",
            "    43   29  -30  -51  180  129   16  -26  -43   38   28   49   11  -19]\n",
            " [-101  121   81  148  -71  -30 -100   47   82  -13  -15  -44   21  -23\n",
            "    16   74    5 -154  130  -84   47  -76  -75  -52   77  114   -7  -49]\n",
            " [   7  127 -141  159 -127  -74  142  -61   -6  -63  -23    2  -32  -67\n",
            "    31  -23   57  -50  205 -110  264  -20 -135  -52  -32   -8   61   44]\n",
            " [  72  137  -99 -175  -89   29  -39  -17   22    5  -19   51  -65 -136\n",
            "  -126  -10  -31 -123   -1 -304  240   33   -7   22  -97 -126   76   98]\n",
            " [  -1  -86  -46  -72  109    4  -13  -27   11  -59 -195  110  159   52\n",
            "  -120  -19  -63  -17  143 -193  229  -60 -165   40    8  -84  -27   25]\n",
            " [ 263 -187  -48  124  435  -40  -64   -4  -45  -92  159  157  122  111\n",
            "   226  176   -2   72  -11 -190  210  -56   56   73  -44  -85    8  102]\n",
            " [ 106 -164   49  -69  241 -258  -26  -25  -33  -89   69  108   84   16\n",
            "    24  -37   13  127 -258  110   -3    1  125 -133   40   -9  -22  -50]\n",
            " [ 184 -272  155  -58 -196   19   38   -2   51  -22  -11 -116 -171 -158\n",
            "  -116  -58  124  -45 -154  162   67  -12   44  -55   77   -8   20 -107]]\n",
            "(28, 28)\n"
          ]
        },
        {
          "output_type": "execute_result",
          "data": {
            "text/plain": [
              "<matplotlib.image.AxesImage at 0x7ce3d0c73490>"
            ]
          },
          "metadata": {},
          "execution_count": 2
        },
        {
          "output_type": "display_data",
          "data": {
            "text/plain": [
              "<Figure size 640x480 with 1 Axes>"
            ],
            "image/png": "[encoded data removed]"
          },
          "metadata": {}
        }
      ],
      "source": [
        "import matplotlib.pyplot as plt\n",
        "\n",
        "######## Convolution with Laplacian Filter ##################\n",
        "lap_kernel = np.array([[0, 1, 0], [1, -4, 1], [0, 1, 0]])  #laplacian kernel\n",
        "\n",
        "\n",
        "def conv_filter(lap_kernel, img_matrix):\n",
        "    conv_img = []\n",
        "\n",
        "    for i in range(1, img_matrix.shape[0] - 1):  #iterate through rows of image\n",
        "        row = []\n",
        "        for j in range(1, img_matrix.shape[1] - 1):  #iterate through columns of image\n",
        "            local = []\n",
        "            local.append(img_matrix.item(i - 1, j - 1))  ##1 slot up diagonally to the left of centroid\n",
        "            local.append(img_matrix.item(i - 1, j))  #1 slot above centroid\n",
        "            local.append(img_matrix.item(i - 1, j + 1))  #1 slot up diagonally to the right of centroid\n",
        "            local.append(img_matrix.item(i, j - 1))  #1 slot to the left of centroid\n",
        "            local.append(img_matrix.item(i, j))  #centroid of filter\n",
        "            local.append(img_matrix.item(i, j + 1))  #1 slot to the right of centroid\n",
        "            local.append(img_matrix.item(i + 1, j - 1))  #1 slot down diagonally to the left of centroid\n",
        "            local.append(img_matrix.item(i + 1, j))  #1 slot below centroid\n",
        "            local.append(img_matrix.item(i + 1, j + 1))  #1 slot down diagonally to the right of centroid\n",
        "\n",
        "            local = np.array(local)\n",
        "            local_mat = local.reshape(3, 3)\n",
        "            matrix = local_mat * lap_kernel\n",
        "            row.append(matrix.sum())  #sum of elements in new matrix\n",
        "\n",
        "        conv_img.append(row)\n",
        "\n",
        "    conv_img = np.mat(conv_img)  #image with convolution filter to matrix\n",
        "\n",
        "    return conv_img\n",
        "\n",
        "filtered_img = conv_filter(lap_kernel, img_matrix)\n",
        "\n",
        "print(filtered_img[:10, :])  #first 10 rows\n",
        "\n",
        "print(filtered_img.shape)  #shape of filtered image array\n",
        "\n",
        "plt.imshow(filtered_img)  #show filtered image"
      ]
    },
    {
      "cell_type": "markdown",
      "metadata": {
        "id": "DMN_XE1xejuJ"
      },
      "source": [
        "### 1.3 Modification on Convolution Scheme\n",
        "\n",
        "Conduct the convolution with the same filter as above, but change the stride to 2. **(5 Points)**\n",
        "\n",
        "**Tasks:**\n",
        "1. Modify the convolution process with stride=2\n",
        "2. **PRINT OUT** convolution result for first ten rows.\n",
        "3. **PRINT OUT** the shape of the convolution result.\n",
        "4. **DISPLAY** convolution result as image with matplotlib.(Don't worry about the value <0 or >255. Scaling process will be conducted in imshow function to make sure valid display.)\n",
        "\n",
        "**Hints:**\n",
        "1. You may just reduce the centroid pool according to stride=2, and then, follow the same convolution process above.\n",
        "    **Note: After increase of stride, the size of convolution result is further shrinked. You may think about the reason.**\n",
        "2. Validation for first 5X5 array (from upper-left corner), i.e., filtered_results[0:5,0:5]. The example figure is below.\n",
        "\n",
        "[[ 134.   98.  173.    5.    3.]\\\n",
        " [  96. -163.   68.  -10.   37.]\\\n",
        " [   7. -141. -127.  142.   -6.]\\\n",
        " [  -1.  -46.  109.  -13.   11.]\\\n",
        " [ 106.   49.  241.  -26.  -33.]]\n",
        "\n",
        "\n",
        "![](https://drive.google.com/uc?export=view&id=1UPdXt5cY1umImu2chaQLfWAnqDEpFOGV)\n"
      ]
    },
    {
      "cell_type": "code",
      "execution_count": 3,
      "metadata": {
        "id": "pyFLwZxYejuJ",
        "colab": {
          "base_uri": "https://localhost:8080/",
          "height": 638
        },
        "outputId": "1e98f5a5-723f-4081-905d-a87fb3307796"
      },
      "outputs": [
        {
          "output_type": "stream",
          "name": "stdout",
          "text": [
            "[[ 134   98  173    5    3  -87  -92 -175  -77  -50   25  -58   -7  -12]\n",
            " [  96 -163   68  -10   37   49   18   43  -30  180   16  -43   28   11]\n",
            " [   7 -141 -127  142   -6  -23  -32   31   57  205  264 -135  -32   61]\n",
            " [  -1  -46  109  -13   11 -195  159 -120  -63  143  229 -165    8  -27]\n",
            " [ 106   49  241  -26  -33   69   84   24   13 -258   -3  125   40  -22]\n",
            " [ -79   41  -89   18  -31   26  103  -10   81   77  106  -88   51  -19]\n",
            " [  76   24   15 -144  -18   -6   36 -164  -80 -120  -65   45  -33  -32]\n",
            " [ 196  -18   71  -43   20   50   42   50   59 -111  -45  -15   58 -169]\n",
            " [ -38  -43   48   -9   -5   26 -164   61  -16   -5  126   96   -8   71]\n",
            " [-234   26  110   29  -39  -31   86 -111  -10   60  -27   15    1   44]]\n",
            "(14, 14)\n"
          ]
        },
        {
          "output_type": "execute_result",
          "data": {
            "text/plain": [
              "<matplotlib.image.AxesImage at 0x7ce3d091e890>"
            ]
          },
          "metadata": {},
          "execution_count": 3
        },
        {
          "output_type": "display_data",
          "data": {
            "text/plain": [
              "<Figure size 640x480 with 1 Axes>"
            ],
            "image/png": "[encoded data removed]"
          },
          "metadata": {}
        }
      ],
      "source": [
        "######## Convolution with Laplacian Filter and the setting of stride=2 ##################\n",
        "\n",
        "def conv_filter_stride2(lap_kernel, img_matrix):\n",
        "    conv_img = []\n",
        "\n",
        "    for i in range(1, img_matrix.shape[0] - 1):  #iterate through rows of image\n",
        "        if i % 2 == 0:\n",
        "            continue\n",
        "        row = []\n",
        "        for j in range(1, img_matrix.shape[1] - 1):  #iterate through columns of image\n",
        "            if j % 2 == 0:\n",
        "                continue\n",
        "\n",
        "            local = []\n",
        "            local.append(img_matrix.item(i - 1, j - 1))  ##1 slot up diagonally to the left of centroid\n",
        "            local.append(img_matrix.item(i - 1, j))  #1 slot above centroid\n",
        "            local.append(img_matrix.item(i - 1, j + 1))  #1 slot up diagonally to the right of centroid\n",
        "            local.append(img_matrix.item(i, j - 1))  #1 slot to the left of centroid\n",
        "            local.append(img_matrix.item(i, j))  #centroid of filter\n",
        "            local.append(img_matrix.item(i, j + 1))  #1 slot to the right of centroid\n",
        "            local.append(img_matrix.item(i + 1, j - 1))  #1 slot down diagonally to the left of centroid\n",
        "            local.append(img_matrix.item(i + 1, j))  #1 slot below centroid\n",
        "            local.append(img_matrix.item(i + 1, j + 1))  #1 slot down diagonally to the right of centroid\n",
        "\n",
        "            local = np.array(local)\n",
        "            local_mat = local.reshape(3, 3)\n",
        "            matrix = local_mat * lap_kernel\n",
        "            row.append(matrix.sum())  #sum of elements in new matrix\n",
        "\n",
        "        conv_img.append(row)\n",
        "\n",
        "    conv_img = np.mat(conv_img)  #image with convolution filter to matrix\n",
        "\n",
        "    return conv_img\n",
        "\n",
        "filter_stride2 = conv_filter_stride2(lap_kernel, img_matrix)\n",
        "\n",
        "print(filter_stride2[:10, :])  #first 10 rows\n",
        "\n",
        "print(filter_stride2.shape)  #shape of filtered image array\n",
        "\n",
        "plt.imshow(filter_stride2)  #show filtered image"
      ]
    },
    {
      "cell_type": "markdown",
      "metadata": {
        "id": "l2PT6NpSejuL"
      },
      "source": [
        "### 1.4 Implementation of MaxPooling\n",
        "\n",
        "Process the obtained array from the image with MaxPooling operation. **(15 Points)**\n",
        "\n",
        "**Tasks:**\n",
        "1. Prepare a 2X2 pooling mask.\n",
        "2. Conduct max pooing on image with prepared mask.\n",
        "3. **PRINT OUT** convolution result for first ten rows.\n",
        "4. **PRINT OUT** the shape of the convolution result.\n",
        "5. **DISPLAY** convolution result as image with matplotlib.(Don't worry about the value <0 or >255. Scaling process will be conducted in imshow function to make sure valid display.)\n",
        "\n",
        "**Hints:**\n",
        "1. You may just modify the centroid pool to top-left corner pool, and then, follow the same strategy above.\\\n",
        "    **Note: After the pooling, the size of the array is shrinked. You may think about the reason.**\n",
        "2. Validation for first 5X5 array (from upper-left corner), i.e., pooled_results[0:5,0:5].The example figure is below.\n",
        "\n",
        "[[ 98. 112.  93. 195. 173.]\\\n",
        " [ 84. 127. 137. 253. 254.]\\\n",
        " [ 85. 145. 225. 255. 242.]\\\n",
        " [104. 178. 216. 230. 242.]\\\n",
        " [ 95. 186. 147. 248. 242.]]\n",
        "\n",
        "![](https://drive.google.com/uc?export=view&id=1a18IWjrN0xHcp7bSNuj8kUM4JFFj3ebd)\n",
        "\n"
      ]
    },
    {
      "cell_type": "code",
      "execution_count": 4,
      "metadata": {
        "id": "JOV72Sp9ejuL",
        "colab": {
          "base_uri": "https://localhost:8080/",
          "height": 638
        },
        "outputId": "f01debd5-8914-4100-cbbd-5d8e692f3a59"
      },
      "outputs": [
        {
          "output_type": "stream",
          "name": "stdout",
          "text": [
            "[[ 98 112  93 195 173 209 206 237 223 185 167 169 136  54]\n",
            " [ 84 127 137 253 254 249 241 250 236 224 181 173 124  55]\n",
            " [ 85 145 225 255 242 247 236 232 192 208 146 199 178 103]\n",
            " [104 178 216 230 242 238 176 218 186 198 203 165 179 168]\n",
            " [ 95 186 147 248 242 221  62  74  95 182 155  91 145 161]\n",
            " [201 201 229 217 210 188 169 164 111 154  81 104 104 141]\n",
            " [184 212 180 214 193 148 191 141 127 140 114 113 115 139]\n",
            " [172 105  61 149 189 119 106 120 109 148  95 110 102 110]\n",
            " [186  41  34 104 153  91 172 147  98 143 136  92  83  37]\n",
            " [207  94  42  75  95  99 104 120 101  94 116 149  83  64]]\n",
            "(14, 14)\n"
          ]
        },
        {
          "output_type": "execute_result",
          "data": {
            "text/plain": [
              "<matplotlib.image.AxesImage at 0x7ce3d0b35ba0>"
            ]
          },
          "metadata": {},
          "execution_count": 4
        },
        {
          "output_type": "display_data",
          "data": {
            "text/plain": [
              "<Figure size 640x480 with 1 Axes>"
            ],
            "image/png": "[encoded data removed]"
          },
          "metadata": {}
        }
      ],
      "source": [
        "######## MaxPooling with the setting of 2X2 ##################\n",
        "\n",
        "def max_pooling(img_matrix):\n",
        "    max_pool = []\n",
        "\n",
        "    for i in range(1, img_matrix.shape[0] - 1):  #iterate through rows of image\n",
        "        if i % 2 == 0:  #skip every other row\n",
        "            continue\n",
        "        row = []\n",
        "        for j in range(1, img_matrix.shape[1] - 1):  #iterate through columns of image\n",
        "            if j % 2 == 0:  #skip every other column\n",
        "                continue\n",
        "\n",
        "            local = []\n",
        "            local.append(img_matrix.item(i - 1, j - 1))  ##1 slot up diagonally to the left of centroid\n",
        "            local.append(img_matrix.item(i - 1, j))  #1 slot above centroid\n",
        "            local.append(img_matrix.item(i, j - 1))  #1 slot to the left of centroid\n",
        "            local.append(img_matrix.item(i, j))  #centroid of filter\n",
        "\n",
        "            row.append(np.max(local))  #sum of elements in new matrix\n",
        "\n",
        "        max_pool.append(row)\n",
        "\n",
        "    max_pool = np.mat(max_pool)  #image with convolution filter to matrix\n",
        "\n",
        "    return max_pool\n",
        "\n",
        "max_pool = max_pooling(img_matrix)\n",
        "\n",
        "print(max_pool[:10, :])  #first 10 rows\n",
        "\n",
        "print(max_pool.shape)  #shape of filtered image array\n",
        "\n",
        "plt.imshow(max_pool)  #show filtered image"
      ]
    }
  ],
  "metadata": {
    "accelerator": "GPU",
    "colab": {
      "provenance": [],
      "include_colab_link": true
    },
    "coursera": {
      "course_slug": "neural-networks-deep-learning",
      "graded_item_id": "XaIWT",
      "launcher_item_id": "zAgPl"
    },
    "kernelspec": {
      "display_name": "Python 3",
      "language": "python",
      "name": "python3"
    },
    "language_info": {
      "codemirror_mode": {
        "name": "ipython",
        "version": 3
      },
      "file_extension": ".py",
      "mimetype": "text/x-python",
      "name": "python",
      "nbconvert_exporter": "python",
      "pygments_lexer": "ipython3",
      "version": "3.8.5"
    }
  },
  "nbformat": 4,
  "nbformat_minor": 0
}